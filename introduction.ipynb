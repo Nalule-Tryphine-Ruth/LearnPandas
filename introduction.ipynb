# import libraries
import pandas as pd

# Pandas has 2 main data structures (series and dataframes)

# pandas Series* one-dimensional labeled array
ser = pd.Series(data=[100, 200, 300, 400, 500], index=['tom', 'bob', 'nancy', 'dan', 'eric'])
